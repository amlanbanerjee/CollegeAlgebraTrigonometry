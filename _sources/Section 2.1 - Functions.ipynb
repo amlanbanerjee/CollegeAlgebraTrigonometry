{
 "cells": [
  {
   "cell_type": "markdown",
   "metadata": {},
   "source": [
    "## Section 2.1 - Functions"
   ]
  },
  {
   "cell_type": "markdown",
   "metadata": {},
   "source": [
    "#### 1. Suppose that the revenue $R$, in dollars, from selling $x$ cell phones, in hundreds, in $R(x)=-1.2x^2 + 220x$. The cost $C$, in dollars, of selling $x$ cell phones, in hundrdes, is $C(x)=0.05x^2 - 2x^2 + 65x + 500.$ \n",
    "(a) Find the profit function: $P(x) = R(x) - C(x) $  \n",
    "(b) Find the profit if $x = 1,500$ cell phones are sold."
   ]
  },
  {
   "cell_type": "markdown",
   "metadata": {},
   "source": [
    "Solution:\n",
    "\n",
    "$\n",
    "\\begin{align}\n",
    "P(x) &= R(x) - C(x)  \\\\\n",
    "&= (-1.2x^2 + 220x) - (0.05x^2 - 2x^2 + 65x + 500)  \\\\\n",
    "&= -1.2x^2 + 220x - 0.05x^2 + 2x^2 - 65x - 500  \\\\\n",
    "&= 0.75x^2 + 155x - 500  \\\\\n",
    "\\end{align}\n",
    "$\n",
    "\n",
    "$\n",
    "\\begin{align}\n",
    "P(1500) &= 0.75(1500)^2 + 155(1500)-500  \\\\\n",
    "&= (0.75)(225)(100)^2 + 2325(100) - 500 \\\\\n",
    "&= 1,919,500\n",
    "\\end{align}\n",
    "$"
   ]
  },
  {
   "cell_type": "markdown",
   "metadata": {},
   "source": [
    "#### 2. Find the difference quotient of $f$, i.e., find $\\dfrac{f(x+h)-f(x)}{h}, h\\ne 0$, for the following function, $f(x)=\\sqrt{1+x}$. "
   ]
  },
  {
   "cell_type": "markdown",
   "metadata": {},
   "source": [
    "Solution:\n",
    "\n",
    "$\n",
    "\\begin{align}\n",
    "\\dfrac{f(x+h)-f(x)}{h} &= \\dfrac{\\sqrt{1+x+h}-\\sqrt{1+x}}{h}  \\\\\n",
    "&= \\dfrac{1+x+h-1-x}{h(\\sqrt{1+x+h}+\\sqrt{1+x})}  \\\\\n",
    "&= \\dfrac{1}{(\\sqrt{1+x+h}+\\sqrt{1+x})}  \\\\\n",
    "\\end{align}\n",
    "$\n",
    "\n"
   ]
  }
 ],
 "metadata": {
  "kernelspec": {
   "display_name": "Python 3",
   "language": "python",
   "name": "python3"
  },
  "language_info": {
   "codemirror_mode": {
    "name": "ipython",
    "version": 3
   },
   "file_extension": ".py",
   "mimetype": "text/x-python",
   "name": "python",
   "nbconvert_exporter": "python",
   "pygments_lexer": "ipython3",
   "version": "3.7.9"
  }
 },
 "nbformat": 4,
 "nbformat_minor": 4
}
