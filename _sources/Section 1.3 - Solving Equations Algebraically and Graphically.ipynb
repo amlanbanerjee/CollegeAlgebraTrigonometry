{
 "cells": [
  {
   "cell_type": "markdown",
   "metadata": {},
   "source": [
    "## Section 1.3 - Solving Equations Algebraically and Graphically (Optional)"
   ]
  },
  {
   "cell_type": "markdown",
   "metadata": {},
   "source": [
    "#### 1. $ x^3 + 2x^2 - 9x - 18 = 0 $ "
   ]
  },
  {
   "cell_type": "markdown",
   "metadata": {},
   "source": [
    "**Algebraic Solution:**\n",
    "\n",
    "$ \n",
    "x^3 + 2x^2 - 9x - 18 = 0   \\\\\n",
    "\\implies x^2 (x+2)-9(x+2) = 0 \\\\\n",
    "\\implies (x+2) (x^2 - 9) = 0  \\\\\n",
    "x = -2  \\\\\n",
    "or,\n",
    "x^2 - 9 = 0  \\\\\n",
    "(x + 3)(x - 3) = 0 \\\\\n",
    "x = -3, 3 \n",
    "$ \n",
    "\n",
    "Solutions: $x = -3, -2, 3$"
   ]
  },
  {
   "cell_type": "markdown",
   "metadata": {},
   "source": [
    "**Graphical Solution:**\n",
    "\n",
    "Split the equation into two parts.\n",
    "\n",
    "$ \n",
    "x^3 + 2x^2 = 9x + 18  \\\\\n",
    "y_1 = x^3 + 2x^2    \\\\\n",
    "y_2 = 9x + 18\n",
    "$ \n",
    "\n",
    "Plot the two functions as shown below."
   ]
  },
  {
   "cell_type": "code",
   "execution_count": 3,
   "metadata": {},
   "outputs": [
    {
     "data": {
      "text/html": [
       "<h1><iframe src=\"https://www.desmos.com/calculator/xqr9zfuff1?embed\" width=\"750px\" height=\"1000px\" style=\"border: 1px solid #ccc\" frameborder=0></iframe></h1>"
      ],
      "text/plain": [
       "<IPython.core.display.HTML object>"
      ]
     },
     "metadata": {},
     "output_type": "display_data"
    }
   ],
   "source": [
    "from IPython.core.display import display, HTML\n",
    "display(HTML('<h1><iframe src=\"https://www.desmos.com/calculator/xqr9zfuff1?embed\" width=\"750px\" height=\"1000px\" style=\"border: 1px solid #ccc\" frameborder=0></iframe></h1>'))"
   ]
  },
  {
   "cell_type": "markdown",
   "metadata": {},
   "source": [
    "The two function intersect at $(-3,-9), (-2,0), (3,45) \\\\ $\n",
    "Hence, the solutions of $x: -3, -2, 3$ "
   ]
  },
  {
   "cell_type": "markdown",
   "metadata": {},
   "source": [
    "<iframe src=\"https://www.desmos.com/calculator/kyfxqz4jm4?embed\" width=\"500px\" height=\"500px\" style=\"border: 1px solid #ccc\" frameborder=0></iframe>"
   ]
  }
 ],
 "metadata": {
  "kernelspec": {
   "display_name": "Python 3",
   "language": "python",
   "name": "python3"
  },
  "language_info": {
   "codemirror_mode": {
    "name": "ipython",
    "version": 3
   },
   "file_extension": ".py",
   "mimetype": "text/x-python",
   "name": "python",
   "nbconvert_exporter": "python",
   "pygments_lexer": "ipython3",
   "version": "3.7.9"
  }
 },
 "nbformat": 4,
 "nbformat_minor": 4
}
