{
 "cells": [
  {
   "cell_type": "markdown",
   "metadata": {},
   "source": [
    "## Section 2.3 - Functions and their Graphs "
   ]
  },
  {
   "cell_type": "markdown",
   "metadata": {},
   "source": [
    "#### 1. $f(x) = \\dfrac{1}{x^2}$\n",
    "For the above function,  \n",
    "(a) Express the slope of the secant line in term of $x$ and $h$.  \n",
    "(b) Find $m_{sec}$ for $h=0.01$ at $x=1$. What value does $m_{sec}$ approach as $h$ approches $0$?  \n",
    "(c) Find an equation for the secant line at $x=1$ with $h=0.01$.  \n",
    "(d) Plot the function and the secant line from (c).  "
   ]
  },
  {
   "cell_type": "markdown",
   "metadata": {},
   "source": [
    "Solution:   \n",
    "(a)\n",
    "$\n",
    "m_{sec} = \\dfrac{f(x+h)-f(x)}{h}; h\\ne 0  \\\\\n",
    "\\begin{align}\n",
    "m_{sec} &= \\dfrac{\\frac{1}{(x+h)^2}-\\frac{1}{x^2}}{h}  \\\\\n",
    "&= \\dfrac{x^2 - (x+h)^2}{x^2(x+h)^2h}  \\\\\n",
    "&= \\dfrac{(2x+h)(-h)}{x^2(x+h)^2h}  \\\\\n",
    "&= -\\dfrac{(2x+h)}{x^2(x+h)^2}  \\\\\n",
    "\\end{align}\n",
    "$\n",
    "\n",
    "(b)\n",
    "\n",
    "$\n",
    "\\begin{align}\n",
    "m_{sec}(h=0.01, x=1) &= -\\dfrac{(2x+h)}{x^2(x+h)^2}   \\\\\n",
    "&= -\\dfrac{2(1)+0.01}{(1)^2(1+0.0-1.971)^2}  \\\\\n",
    "&= -\\dfrac{2.01}{1.01^2}  \\\\\n",
    "&= - 1.97\n",
    "\\end{align}\n",
    "$\n",
    "\n",
    "$\n",
    "\\begin{align}\n",
    "m_{sec} &= -\\dfrac{(2x+h)}{x^2(x+h)^2} \\\\\n",
    "as \\ h \\rightarrow 0  \\\\\n",
    "&= -\\dfrac{(2x+0)}{x^2(x+0)^2} \\\\\n",
    "&= -\\dfrac{2}{x^3}\n",
    "\\end{align}\n",
    "$\n",
    "\n",
    "(c)\n",
    "$\n",
    "At \\ x = 1, f(x) = 1\n",
    "$\n",
    "\n",
    "Therefore, the secant line contains the point $(1,1)$ and has a slope of $-1.97$.\n",
    "\n",
    "$\n",
    "\\dfrac{y-1}{x-1} = -1.97 \\\\\n",
    "\\implies y - 1 = -1.97x + 1.97 \\\\\n",
    "\\implies y + 1.97x - 2.97 = 0\n",
    "$"
   ]
  },
  {
   "cell_type": "code",
   "execution_count": 4,
   "metadata": {},
   "outputs": [
    {
     "data": {
      "text/html": [
       "<h1><iframe src=\"https://www.desmos.com/calculator/ce4bwvl6hp?embed\" width=\"500px\" height=\"500px\" style=\"border: 1px solid #ccc\" frameborder=0></iframe></h1>"
      ],
      "text/plain": [
       "<IPython.core.display.HTML object>"
      ]
     },
     "metadata": {},
     "output_type": "display_data"
    }
   ],
   "source": [
    "from IPython.core.display import display, HTML\n",
    "display(HTML('<h1><iframe src=\"https://www.desmos.com/calculator/ce4bwvl6hp?embed\" width=\"500px\" height=\"500px\" style=\"border: 1px solid #ccc\" frameborder=0></iframe></h1>'))"
   ]
  },
  {
   "cell_type": "markdown",
   "metadata": {},
   "source": [
    "#### 2. $F(x) = -x^4 + 8x^2 + 9$ \n",
    "(a) Determine whether $F$ is even, odd, or neither.  \n",
    "(b) There is a local maximum value of 25 at $x=2$. Determine the second local maximum value.  \n",
    "(c) Suppose the area under the graph of $F$ between $x=\\{0,3\\}$ that is bound from below by the $x$-axis is $50.4$ square units. Find the area under the graph of $F$ between $x=\\{-3,0\\}$ that is bound from below by the $x$-axis."
   ]
  },
  {
   "cell_type": "markdown",
   "metadata": {},
   "source": [
    "Solution:\n",
    "\n",
    "$\n",
    "F(x) = -x^4 + 8x^2 + 9  \\\\\n",
    "\\begin{align}\n",
    "F(-x) &= -(-x)^4 + 8(-x)^2 + 9  \\\\ \n",
    "&= -x^4 + 8x^2 + 9 \\\\\n",
    "&= F(x)  \\\\\n",
    "\\end{align}\n",
    "\\\\\n",
    "\\therefore F \\text { is even.}\n",
    "$ \n"
   ]
  },
  {
   "cell_type": "code",
   "execution_count": 5,
   "metadata": {},
   "outputs": [
    {
     "data": {
      "text/html": [
       "<h1><iframe src=\"https://www.desmos.com/calculator/vrfhwqyt3n?embed\" width=\"500px\" height=\"500px\" style=\"border: 1px solid #ccc\" frameborder=0></iframe></h1>"
      ],
      "text/plain": [
       "<IPython.core.display.HTML object>"
      ]
     },
     "metadata": {},
     "output_type": "display_data"
    }
   ],
   "source": [
    "display(HTML('<h1><iframe src=\"https://www.desmos.com/calculator/vrfhwqyt3n?embed\" width=\"500px\" height=\"500px\" style=\"border: 1px solid #ccc\" frameborder=0></iframe></h1>'))"
   ]
  },
  {
   "cell_type": "markdown",
   "metadata": {},
   "source": [
    "(b) The second local maximum is at $(-2,25)$.  \n",
    "(c) Since the function is symmetrical about the $y$-axis, the area under the graph of $F$ between $x=\\{-3,0\\}$ that is bound from below by the $x$-axis is $50.4$."
   ]
  }
 ],
 "metadata": {
  "kernelspec": {
   "display_name": "Python 3",
   "language": "python",
   "name": "python3"
  },
  "language_info": {
   "codemirror_mode": {
    "name": "ipython",
    "version": 3
   },
   "file_extension": ".py",
   "mimetype": "text/x-python",
   "name": "python",
   "nbconvert_exporter": "python",
   "pygments_lexer": "ipython3",
   "version": "3.7.9"
  }
 },
 "nbformat": 4,
 "nbformat_minor": 4
}
