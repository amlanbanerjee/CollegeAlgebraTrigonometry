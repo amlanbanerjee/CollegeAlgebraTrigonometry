{
 "cells": [
  {
   "cell_type": "markdown",
   "metadata": {},
   "source": [
    "## Section 2.4 - Piecewise-defined Functions"
   ]
  },
  {
   "cell_type": "markdown",
   "metadata": {},
   "source": [
    "#### 1. In 2015, the USPS charged $\\$0.98$ postage for first-class mail retail flats weighing up to $1$ ounce plus $\\$0.22$ for each additional ounce up to $13$ ounces. First-class mail do not apply to flats weighing more then $13$ ounces. Develop a model that relates $C$, the first-class postage charged, for a flat weighing $x$ ounces. Graph the function.   "
   ]
  },
  {
   "cell_type": "markdown",
   "metadata": {},
   "source": [
    "Solution:\n",
    "\n",
    "$\n",
    "C = 0.98 + 0.22(x-1) = 0.76 + 0.22x \\qquad{1 \\lt x \\le 13}\n",
    "$"
   ]
  },
  {
   "cell_type": "code",
   "execution_count": 14,
   "metadata": {},
   "outputs": [
    {
     "data": {
      "text/html": [
       "<h1><iframe src=\"https://www.desmos.com/calculator/wyejuznoqq?embed\" width=\"500px\" height=\"500px\" style=\"border: 1px solid #ccc\" frameborder=0></iframe></h1>"
      ],
      "text/plain": [
       "<IPython.core.display.HTML object>"
      ]
     },
     "metadata": {},
     "output_type": "display_data"
    }
   ],
   "source": [
    "from IPython.core.display import display, HTML\n",
    "display(HTML('<h1><iframe src=\"https://www.desmos.com/calculator/wyejuznoqq?embed\" width=\"500px\" height=\"500px\" style=\"border: 1px solid #ccc\" frameborder=0></iframe></h1>'))"
   ]
  },
  {
   "cell_type": "markdown",
   "metadata": {},
   "source": [
    "#### 2. The wind chill factor represents the air temperature at a standard wind speed that would produce the same heat loss as the given temperature and wind speed. One formula for computing the equivalent temperature is\n",
    "\n",
    "$\n",
    "W =\n",
    "\\begin{cases}\n",
    "t  & 0 \\le v \\lt 1.79 \\\\[2ex]\n",
    "33 -\\dfrac{(10.45+10\\sqrt v - v)(33-t)}{22.04} & 1.79 \\le v \\le 20 \\\\[2ex]\n",
    "33-1.5958(33-t)  & v > 20\n",
    "\\end{cases}\n",
    "$\n",
    "\n",
    "where, $v$ represents the wind speed (in meters per second) and $t$ represents the air temperature $(C^\\circ)$. Compute the wind chill for the following:\\\n",
    "(a) An air temperature of $10 \\ C^\\circ$ and a wind speed of $1 \\ ms^{-1}.$    \n",
    "(b) An air temperature of $10 \\ C^\\circ$ and a wind speed of $5 \\ ms^{-1}.$  \n",
    "(c) An air temperature of $10 \\ C^\\circ$ and a wind speed of $25 \\ ms^{-1}.$  "
   ]
  },
  {
   "cell_type": "markdown",
   "metadata": {},
   "source": [
    "Solution:\n",
    "\n",
    "(a) An air temperature of $10 \\ C^\\circ$ and a wind speed of $1 \\ ms^{-1}.$    \n",
    "\n",
    "$\n",
    "W = 10^\\circ  \\qquad 0 \\le v \\lt 1.79 \n",
    "$\n",
    "\n",
    "(b) An air temperature of $10 \\ C^\\circ$ and a wind speed of $5 \\ ms^{-1}.$  \n",
    "\n",
    "$\n",
    "\\begin{align}\n",
    "W &= 33 -\\dfrac{(10.45+10\\sqrt v - v)(33-t)}{22.04} \\qquad 1.79 \\le v \\le 20  \\\\\n",
    "&= 33 -\\dfrac{(10.45+10\\sqrt 5 - 5)(33-10)}{22.04}   \\\\\n",
    "&= 3.93^\\circ\n",
    "\\end{align}\n",
    "$\n",
    "\n",
    "(c) An air temperature of $10 \\ C^\\circ$ and a wind speed of $25 \\ ms^{-1}.$  \n",
    "\n",
    "$\n",
    "\\begin{align}\n",
    "W &= 33-1.5958(33-t)  \\qquad v > 20  \\\\\n",
    "&= 33-1.5958(33-10)  \\\\\n",
    "&= -3.70^\\circ\n",
    "\\end{align}\n",
    "$"
   ]
  },
  {
   "cell_type": "markdown",
   "metadata": {},
   "source": [
    "#### 3. \n",
    "\n",
    "(a) Graph\n",
    "\n",
    "$\n",
    "f(x) =\n",
    "\\begin{cases}\n",
    "-x+1  & \\text{if } -1 \\le x \\lt 0 \\\\[2ex]\n",
    "2  & \\text{if } x = 0  \\\\[2ex]\n",
    "x + 1  & \\text{if } 0 \\lt x \\le 2 \\\\[2ex]\n",
    "\\end{cases}\n",
    "$\n",
    "\n",
    "(b) find the domain of $f$.  \n",
    "(c) Find the absolute maximum or minimum, if they exist.  \n",
    "(d) Find the local maximum or minimum, if they exist."
   ]
  },
  {
   "cell_type": "code",
   "execution_count": 15,
   "metadata": {},
   "outputs": [
    {
     "data": {
      "text/html": [
       "<h1><iframe src=\"https://www.desmos.com/calculator/ljpcj2nmqu?embed\" width=\"500px\" height=\"500px\" style=\"border: 1px solid #ccc\" frameborder=0></iframe></h1>"
      ],
      "text/plain": [
       "<IPython.core.display.HTML object>"
      ]
     },
     "metadata": {},
     "output_type": "display_data"
    }
   ],
   "source": [
    "display(HTML('<h1><iframe src=\"https://www.desmos.com/calculator/ljpcj2nmqu?embed\" width=\"500px\" height=\"500px\" style=\"border: 1px solid #ccc\" frameborder=0></iframe></h1>'))"
   ]
  },
  {
   "cell_type": "markdown",
   "metadata": {},
   "source": [
    "(b) domain: $[-1,2]$  \n",
    "(c) Absolute maximum: $(2,3)$; absolute minimum: $(0,1)$  \n",
    "(d) Local maximum: $(-1,2) \\ and \\ (2,3)$  \n",
    "Local minimum: $(0,1)$"
   ]
  },
  {
   "cell_type": "markdown",
   "metadata": {},
   "source": [
    "#### 4. \n",
    "\n",
    "$\n",
    "f(x) =\n",
    "\\begin{cases}\n",
    "|x|  & \\text{if } -2 \\le x \\lt 0 \\\\[2ex]\n",
    "x^3  & \\text{if } x > 0  \\\\[2ex]\n",
    "\\end{cases}\n",
    "$\n",
    "\n",
    "(a) Find the domain of each function.  \n",
    "(b) Locate any intercepts.  \n",
    "(c) Graph each function.   \n",
    "(d) Based on the graph, find the range."
   ]
  },
  {
   "cell_type": "code",
   "execution_count": 16,
   "metadata": {},
   "outputs": [
    {
     "data": {
      "text/html": [
       "<h1><iframe src=\"https://www.desmos.com/calculator/wgskf6ew8w?embed\" width=\"500px\" height=\"500px\" style=\"border: 1px solid #ccc\" frameborder=0></iframe></h1>"
      ],
      "text/plain": [
       "<IPython.core.display.HTML object>"
      ]
     },
     "metadata": {},
     "output_type": "display_data"
    }
   ],
   "source": [
    "display(HTML('<h1><iframe src=\"https://www.desmos.com/calculator/wgskf6ew8w?embed\" width=\"500px\" height=\"500px\" style=\"border: 1px solid #ccc\" frameborder=0></iframe></h1>'))"
   ]
  },
  {
   "cell_type": "markdown",
   "metadata": {},
   "source": [
    "(a) Domain: $[-2,\\infty)$   \n",
    "(b) Both functions passed through the origin; therefore, there are no $x$ and $y$ intercepts.   \n",
    "(d) Range: $[0,\\infty)$"
   ]
  }
 ],
 "metadata": {
  "kernelspec": {
   "display_name": "Python 3",
   "language": "python",
   "name": "python3"
  },
  "language_info": {
   "codemirror_mode": {
    "name": "ipython",
    "version": 3
   },
   "file_extension": ".py",
   "mimetype": "text/x-python",
   "name": "python",
   "nbconvert_exporter": "python",
   "pygments_lexer": "ipython3",
   "version": "3.7.9"
  }
 },
 "nbformat": 4,
 "nbformat_minor": 4
}
