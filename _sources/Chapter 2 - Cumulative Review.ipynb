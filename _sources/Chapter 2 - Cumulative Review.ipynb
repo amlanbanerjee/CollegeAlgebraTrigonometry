{
 "cells": [
  {
   "cell_type": "markdown",
   "metadata": {},
   "source": [
    "## Chapter 2 - Cumulative Review"
   ]
  },
  {
   "cell_type": "markdown",
   "metadata": {},
   "source": [
    "#### 1. Find the domain of $h(x) = \\dfrac{x-4}{x^2 + 5x - 36}$\n",
    "\n",
    "Solution: \n",
    "\n",
    "$\n",
    "x^2 + 5x - 36  \\\\\n",
    "= x^2 + 9x - 4x - 36  \\\\\n",
    "= x(x+9) -4(x+9) \\\\\n",
    "= (x+9)(x-4)\n",
    "$\n",
    "\n",
    "$\n",
    "h(x) = \\dfrac{(x-4)}{(x+9)(x-4)} = \\dfrac{1}{x+9}\n",
    "$\n",
    "\n",
    "$h(x)$ can be defined when $x+9 \\ne 0$.\n",
    "\n",
    "Therefore, the domain of the function:\n",
    "$\n",
    "x < -9 \\\\\n",
    "x > -9\n",
    "$"
   ]
  },
  {
   "cell_type": "markdown",
   "metadata": {},
   "source": [
    "#### 2. Find the domain of $g(x) = \\dfrac{x+2}{|x+2|}$\n",
    "\n",
    "Solution: \n",
    "\n",
    "For $g(x)$ to be defined, $|x+2| \\ne 0 $ \n",
    "\n",
    "Therefore, the domain of $g(x)$:\n",
    "$\n",
    "x<-2  \\\\\n",
    "x>-2\n",
    "$\n",
    "\n",
    "$\n",
    "\\begin{align}\n",
    "g(x) &= 1 \\ &\\forall x > -2 \\\\\n",
    "     &= -1 \\ &\\forall x < -2\n",
    "\\end{align}\n",
    "$"
   ]
  },
  {
   "cell_type": "markdown",
   "metadata": {},
   "source": [
    "#### 3. Use a graphing utility to graph the function $f(x) = -x^4 + 2x^3 + 4x^2 - 2$ on the interval $[-5,5]$. Then approximate any local maximum values and local minimum values rounded to two decimal values. Determine where the function is increasing and where it is decreasing."
   ]
  },
  {
   "cell_type": "code",
   "execution_count": 8,
   "metadata": {},
   "outputs": [
    {
     "data": {
      "text/html": [
       "<h1><iframe src=\"https://www.desmos.com/calculator/9g8f2zu9sv?embed\" width=\"500px\" height=\"500px\" style=\"border: 1px solid #ccc\" frameborder=0></iframe></h1>"
      ],
      "text/plain": [
       "<IPython.core.display.HTML object>"
      ]
     },
     "metadata": {},
     "output_type": "display_data"
    }
   ],
   "source": [
    "from IPython.core.display import display, HTML\n",
    "display(HTML('<h1><iframe src=\"https://www.desmos.com/calculator/9g8f2zu9sv?embed\" width=\"500px\" height=\"500px\" style=\"border: 1px solid #ccc\" frameborder=0></iframe></h1>'))"
   ]
  },
  {
   "cell_type": "markdown",
   "metadata": {},
   "source": [
    "$\n",
    "\\textbf{Local Maximums:}  \\\\\n",
    "(-0.851,-0.86)  \\\\\n",
    "(2.351,15.548)  \\\\\n",
    "$\n",
    "\n",
    "$\n",
    "\\textbf{Local Minimum:}  \\\\\n",
    "(0,-2)  \\\\\n",
    "$\n",
    "\n",
    "$\n",
    "\\textbf{Increasing:}  \\\\\n",
    "\\{(-5,-777), (-0.851,-0.86) \\} \\\\\n",
    "\\{(0,-2), (2.351,15.548) \\}\n",
    "$\n",
    "\n",
    "$\n",
    "\\textbf{Decreasing:}  \\\\\n",
    "\\{(-0.851,-0.86), (0,-2) \\} \\\\\n",
    "\\{(2.351,15.548), (5, -277) \\}\n",
    "$\n"
   ]
  },
  {
   "cell_type": "markdown",
   "metadata": {},
   "source": [
    "#### 4. Solve: $\\sqrt{2x+3} = 2$  \n",
    "\n",
    "Solution:\n",
    "\n",
    "$\n",
    "\\sqrt{2x+3} = 2  \\\\\n",
    "(\\sqrt{2x+3})^2 = 2^2  \\\\\n",
    "\\implies 2x + 3 = 4  \\\\\n",
    "\\implies x = \\dfrac{1}{2}\n",
    "$"
   ]
  },
  {
   "cell_type": "markdown",
   "metadata": {},
   "source": [
    "#### 5. Solve: $|2x+3| = 4$\n",
    "\n",
    "Solution:\n",
    "\n",
    "$\n",
    "|2x+3| = 4  \\\\\n",
    "2x + 3 = 4 \\qquad {(1)} \\\\\n",
    "x = \\dfrac{1}{2} \\\\\n",
    "or, \\\\\n",
    "2x + 3 = -4 \\qquad {(2)} \\\\\n",
    "x = -\\dfrac{7}{2}  \\\\\n",
    "x = (\\dfrac{1}{2}, -\\dfrac{7}{2})\n",
    "$"
   ]
  },
  {
   "cell_type": "markdown",
   "metadata": {},
   "source": [
    "#### 6. Solve: $|2x-5| \\lt 3$\n",
    "\n",
    "Solution:\n",
    "$\n",
    "|2x-5| \\lt 3  \\\\\n",
    "2x -5 \\lt 3  \\qquad {(1)} \\\\\n",
    "x \\lt 4   \\\\\n",
    "or,  \\\\\n",
    "2x -5 \\gt -3  \\qquad {(2)} \\\\\n",
    "x \\gt 1  \\\\\n",
    "1 < x < 4\n",
    "$"
   ]
  },
  {
   "cell_type": "markdown",
   "metadata": {},
   "source": [
    "#### 7. Solve: $|4x + 1| \\ge 7$ \n",
    "\n",
    "Solution:\n",
    "\n",
    "$\n",
    "|4x + 1| \\ge 7  \\\\\n",
    "(4x + 1) \\ge 7  \\qquad {(1)} \\\\\n",
    "x \\ge \\dfrac{3}{2}  \\\\\n",
    "(4x + 1) \\le -7  \\qquad {(2)} \\\\\n",
    "x \\le -2\n",
    "$ "
   ]
  }
 ],
 "metadata": {
  "kernelspec": {
   "display_name": "Python 3",
   "language": "python",
   "name": "python3"
  },
  "language_info": {
   "codemirror_mode": {
    "name": "ipython",
    "version": 3
   },
   "file_extension": ".py",
   "mimetype": "text/x-python",
   "name": "python",
   "nbconvert_exporter": "python",
   "pygments_lexer": "ipython3",
   "version": "3.7.9"
  }
 },
 "nbformat": 4,
 "nbformat_minor": 4
}
