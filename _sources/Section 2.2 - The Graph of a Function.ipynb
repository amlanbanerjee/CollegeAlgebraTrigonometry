{
 "cells": [
  {
   "cell_type": "markdown",
   "metadata": {},
   "source": [
    "## Section 2.2 - The Graph of a Function "
   ]
  },
  {
   "cell_type": "markdown",
   "metadata": {},
   "source": [
    "#### 1. $f(x) = \\dfrac{2x^2}{x^4+1}$\n",
    "(a) Is the point $(-1,1)$ on the graph of $f$?    \n",
    "(b) If $x=2$, what is $f(x)$? What point is on the graph $f$?  \n",
    "(c) If $f(x)=1$, what is $x$? What point(s) are on the graph of $f$?  \n",
    "(d) What is the domain of $f$?  \n",
    "(e) List the $x-$intercepts, if any, of the graph of $f$?  \n",
    "(f) List the $y-$intercepts, if any, of the graph of $f$?  "
   ]
  },
  {
   "cell_type": "markdown",
   "metadata": {},
   "source": [
    "Solution:\n",
    "\n",
    "$\n",
    "f(x) = \\dfrac{2x^2}{x^4+1} \\\\\n",
    "(a) \\text { when } x=-1  \\\\\n",
    "f(x) = \\dfrac{2(-1)^2}{(-1)^4+1} = 1 \\\\\n",
    "$\n",
    "\n",
    "$\\therefore$ $(-1,1)$ is on the graph of $f$.\n",
    "\n",
    "$\n",
    "(b) \\text { If } x=2  \\\\\n",
    "f(x) = \\dfrac{2(2)^2}{(2)^4+1} = \\dfrac{8}{17} \\\\\n",
    "(2, \\dfrac{8}{17}) \\text { is on the graph } f.\n",
    "$\n",
    "\n",
    "$\n",
    "(c) f(x)=1  \\\\\n",
    "\\dfrac{2x^2}{x^4+1} = 1  \\\\\n",
    "\\implies x^4 - 2x^2 + 1 = 0 \\\\\n",
    "\\implies (x^2 - 1)^2 = 0  \\\\\n",
    "\\implies x^2 - 1 = 0 \\\\\n",
    "\\implies x = \\pm 1 \n",
    "$\n",
    "\n",
    "$\n",
    "(1,1) \\ and \\ (-1,1) \\text { are on the graph } f.\n",
    "$\n",
    "\n",
    "(d) The function $f$ is defined for all real values of $x$; therefore domain of $f(x)$ is $\\big(-\\infty, \\infty \\big)$.\n",
    "\n",
    "(e) x-intercept:\n",
    "\n",
    "$\n",
    "\\dfrac{2x^2}{x^4+1} = 0 \n",
    "\\implies x = 0.\n",
    "$\n",
    "\n",
    "(f) y-intercept:\n",
    "\n",
    "$\n",
    "f = \\dfrac{2(0)^2}{(0)^4+1} \n",
    "\\implies f = 0.\n",
    "$\n",
    "\n",
    "The function passes through the origin."
   ]
  },
  {
   "cell_type": "code",
   "execution_count": 3,
   "metadata": {},
   "outputs": [
    {
     "data": {
      "text/html": [
       "<h1><iframe src=\"https://www.desmos.com/calculator/rnv9b2964f?embed\" width=\"500px\" height=\"500px\" style=\"border: 1px solid #ccc\" frameborder=0></iframe></h1>"
      ],
      "text/plain": [
       "<IPython.core.display.HTML object>"
      ]
     },
     "metadata": {},
     "output_type": "display_data"
    }
   ],
   "source": [
    "from IPython.core.display import display, HTML\n",
    "display(HTML('<h1><iframe src=\"https://www.desmos.com/calculator/rnv9b2964f?embed\" width=\"500px\" height=\"500px\" style=\"border: 1px solid #ccc\" frameborder=0></iframe></h1>'))"
   ]
  }
 ],
 "metadata": {
  "kernelspec": {
   "display_name": "Python 3",
   "language": "python",
   "name": "python3"
  },
  "language_info": {
   "codemirror_mode": {
    "name": "ipython",
    "version": 3
   },
   "file_extension": ".py",
   "mimetype": "text/x-python",
   "name": "python",
   "nbconvert_exporter": "python",
   "pygments_lexer": "ipython3",
   "version": "3.7.9"
  }
 },
 "nbformat": 4,
 "nbformat_minor": 4
}
