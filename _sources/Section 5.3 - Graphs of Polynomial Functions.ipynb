{
 "cells": [
  {
   "cell_type": "markdown",
   "metadata": {},
   "source": [
    "## Section 5.3 - Graphs of Polynomial Functions"
   ]
  },
  {
   "cell_type": "markdown",
   "metadata": {},
   "source": [
    "#### 1. Find the $y$- and $x$-intercepts of the function $f(x)=x^4−19x^2+30x$."
   ]
  },
  {
   "cell_type": "markdown",
   "metadata": {},
   "source": [
    "**Solution:**\n",
    "\n",
    "This polynomial is not in factored form, has no common factors, and does not appear to be factorable using techniques previously discussed. Fortunately, we can use technology to find the intercepts. Keep in mind that some values make graphing difficult by hand. In these cases, we can take advantage of graphing utilities."
   ]
  },
  {
   "cell_type": "code",
   "execution_count": 12,
   "metadata": {},
   "outputs": [
    {
     "data": {
      "text/html": [
       "<h1><iframe src=\"https://www.desmos.com/calculator/9tvgvknksa?embed\" width=\"500px\" height=\"500px\" style=\"border: 1px solid #ccc\" frameborder=0></iframe></h1>"
      ],
      "text/plain": [
       "<IPython.core.display.HTML object>"
      ]
     },
     "metadata": {},
     "output_type": "display_data"
    }
   ],
   "source": [
    "from IPython.core.display import display, HTML\n",
    "display(HTML('<h1><iframe src=\"https://www.desmos.com/calculator/9tvgvknksa?embed\" width=\"500px\" height=\"500px\" style=\"border: 1px solid #ccc\" frameborder=0></iframe></h1>'))"
   ]
  },
  {
   "cell_type": "markdown",
   "metadata": {},
   "source": [
    "From the graph, the $x$ intercepts are: $(-5, 0, 2, 3)$, and the $y$-intercept is $0$.\n",
    "\n",
    "In factored form, the polynomial can be expressed as:\n",
    "\n",
    "$f(x) = x(x+5)(x-2)(x-3)$"
   ]
  },
  {
   "cell_type": "markdown",
   "metadata": {},
   "source": [
    "#### 2. Writing a formula for a polynomial function of degree $9$ from the Graph."
   ]
  },
  {
   "cell_type": "markdown",
   "metadata": {},
   "source": [
    "<img src=\"section_5_3_figure_10.jfif\">"
   ]
  },
  {
   "cell_type": "markdown",
   "metadata": {},
   "source": [
    "**Solution**\n",
    "\n",
    "The polynomial function is of degree $9$. The sum of the multiplicities must be $9$.\n",
    "\n",
    "Starting from the left, the first $zero$ occurs at $x=−5$. The graph crosses the $x$-axis, so the multiplicity of the $zero$ must be odd. The $zero$ of $−5$ most likely has multiplicity $3$.\n",
    "\n",
    "The next $zero$ occurs at $x=−1$. The graph touches $x-$axis at this point. The multiplicity of the $zero$ must be even, which is likely to be $2$.\n",
    "\n",
    "The last $zero$ occurs at $x=3$. The graph again touches the $x$-axis, so the multiplicity of the $zero$ must be even. However, the graph at $x=3$ is flatter than at $x=-1$. Hence, we know that the multiplicity is likely even and more than $2$. It is likely to be $4$.\n",
    "\n",
    "Total multiplicity $ = (3+2+4) = 9$.\n",
    "\n",
    "$f(x) = (x+5)^3(x+1)^2(x-3)^4$"
   ]
  },
  {
   "cell_type": "markdown",
   "metadata": {},
   "source": [
    "#### 3. Sketch the graph of $f(x) = \\dfrac{1}{4}x(x-1)^4(x+3)^3$"
   ]
  },
  {
   "cell_type": "markdown",
   "metadata": {},
   "source": [
    "**Solution**\n",
    "\n",
    "$f(x)$ has three $x$ intercepts at $0, 1,$ and $-3$. \n",
    "\n",
    "At $x=0$, the multiplicity is $1$, which means the graph will be linear at the origin $(0,0)$.\n",
    "\n",
    "At $x=1$, the multiplicity is $4$, which means the graph will bounce at this point. \n",
    "\n",
    "At $x=-3$, the multiplicity is $3$, which means the graph will cross the $x$-axis at this intercept.\n",
    "\n",
    "Now, at $x=0$, $f(x)=0$, which means the $y$-intercept of the graph is $0$."
   ]
  },
  {
   "cell_type": "code",
   "execution_count": 13,
   "metadata": {},
   "outputs": [
    {
     "data": {
      "text/html": [
       "<h1><iframe src=\"https://www.desmos.com/calculator/3mxv3hwjl6?embed\" width=\"500px\" height=\"500px\" style=\"border: 1px solid #ccc\" frameborder=0></iframe></h1>"
      ],
      "text/plain": [
       "<IPython.core.display.HTML object>"
      ]
     },
     "metadata": {},
     "output_type": "display_data"
    }
   ],
   "source": [
    "display(HTML('<h1><iframe src=\"https://www.desmos.com/calculator/3mxv3hwjl6?embed\" width=\"500px\" height=\"500px\" style=\"border: 1px solid #ccc\" frameborder=0></iframe></h1>'))"
   ]
  },
  {
   "cell_type": "markdown",
   "metadata": {},
   "source": [
    "#### 4. Find intercepts and multiplicities of the following functions:\n",
    "\n",
    "$\n",
    "\\text{(a) } f(x) = x(4x^2-12x+9)(x^2+8x+16)  \\\\\n",
    "\\text{(b) } f(x) = 3x^4 + 6x^3 + 3x^2 \\\\\n",
    "\\text{(c) } f(x) = 2x^4(x^3 - 4x^2 + 4x)\n",
    "$"
   ]
  },
  {
   "cell_type": "markdown",
   "metadata": {},
   "source": [
    "**Solution**\n",
    "\n",
    "(a) \n",
    "\n",
    "$\n",
    "\\begin{align}\n",
    "f(x) &= x(4x^2-12x+9)(x^2+8x+16)  \\\\\n",
    "&= x(2x-3)^2(x+4)^2\n",
    "\\end{align}\n",
    "$\n",
    "\n",
    "$x$ intercepts: $-4, 0, \\dfrac{3}{2}$  \n",
    "Multiplicities: $1, 2$.  \n",
    "\n",
    "(b)\n",
    "\n",
    "$\n",
    "\\begin{align}\n",
    "f(x) &= 3x^4 + 6x^3 + 3x^2  \\\\\n",
    "&= 3x^2(x^2+2x+1)  \\\\\n",
    "&= 3x^2(x+1)^2\n",
    "\\end{align}\n",
    "$\n",
    "\n",
    "$x$ intercepts: $-1, 0$  \n",
    "Multiplicities: $1, 2$.\n",
    "\n",
    "(c)\n",
    "\n",
    "$\n",
    "\\begin{align}\n",
    "f(x) &= 2x^4(x^3 - 4x^2 + 4x)  \\\\\n",
    "&= 2x^5(x^2 - 4x + 4)  \\\\\n",
    "&= 2x^5(x - 2)^2\n",
    "\\end{align}\n",
    "$\n",
    "\n",
    "$x$ intercepts: $0, 2$  \n",
    "Multiplicities: $1, 2$."
   ]
  },
  {
   "cell_type": "markdown",
   "metadata": {},
   "source": [
    "#### 5. Find $f(x)$. Given, double zero at $x=−3$ and triple zero at $x=0$. Passes through the point $(1,32)$."
   ]
  },
  {
   "cell_type": "markdown",
   "metadata": {},
   "source": [
    "**Solution**\n",
    "\n",
    "$\n",
    "f(x) = a(x+3)^2x^3\n",
    "$\n",
    "\n",
    "Let's find the stretch factor $a$,\n",
    "\n",
    "$\n",
    "f(x=1) = 32 \\\\\n",
    "32 = a(1+3)^2(1)^3  \\\\\n",
    "a = 2\n",
    "$\n",
    "\n",
    "$f(x) = 2(x+3)^2x^3$"
   ]
  },
  {
   "cell_type": "markdown",
   "metadata": {},
   "source": [
    "#### 6. Find $f(x)$. Given, degree $5$. roots of multiplicity $2$ at $x=−3$ and $x=2$ and a root of multiplicity $1$ at $x=−2$. $y$-intercept at $(0, 4).$"
   ]
  },
  {
   "cell_type": "markdown",
   "metadata": {},
   "source": [
    "**Solution**\n",
    "\n",
    "$\n",
    "f(x) = a(x+3)^2(x-2)^2(x+2)\n",
    "$\n",
    "\n",
    "Given, $f(x) = 4$ at $x=0$.\n",
    "\n",
    "$\n",
    "4 = a(3)^2(-2)^2(2)  \\\\\n",
    "\\therefore a = \\dfrac{1}{18}\n",
    "$\n",
    "\n",
    "$f(x) = \\dfrac{1}{18}(x+3)^2(x-2)^2(x+2)$"
   ]
  },
  {
   "cell_type": "markdown",
   "metadata": {},
   "source": [
    "#### 7. Use the graphs to write a polynomial function of least degree."
   ]
  },
  {
   "cell_type": "markdown",
   "metadata": {},
   "source": [
    "<img src=\"section_5_3_figure_74.jfif\">"
   ]
  },
  {
   "cell_type": "markdown",
   "metadata": {},
   "source": [
    "**Solution**\n",
    "\n",
    "$\n",
    "f(x) = a (x+300)^2 (x-300)^3\n",
    "$\n",
    "\n",
    "At $x = 0$, $f(x) = -90000$\n",
    "\n",
    "$\n",
    "-90000 = a (300)^2 (-300)^3  \\\\\n",
    "a = \\dfrac{1}{300^3}\n",
    "$\n",
    "\n",
    "$f(x) = \\dfrac{1}{300^3} (x+300)^2 (x-300)^3$"
   ]
  }
 ],
 "metadata": {
  "kernelspec": {
   "display_name": "Python 3",
   "language": "python",
   "name": "python3"
  },
  "language_info": {
   "codemirror_mode": {
    "name": "ipython",
    "version": 3
   },
   "file_extension": ".py",
   "mimetype": "text/x-python",
   "name": "python",
   "nbconvert_exporter": "python",
   "pygments_lexer": "ipython3",
   "version": "3.7.9"
  }
 },
 "nbformat": 4,
 "nbformat_minor": 4
}
