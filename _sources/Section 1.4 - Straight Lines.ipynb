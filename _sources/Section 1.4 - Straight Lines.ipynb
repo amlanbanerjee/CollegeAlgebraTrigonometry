{
 "cells": [
  {
   "cell_type": "markdown",
   "metadata": {},
   "source": [
    "## Section 1.4 - Straight Lines"
   ]
  },
  {
   "cell_type": "markdown",
   "metadata": {},
   "source": [
    "#### 1. Show that the line containing the points $(a,b)$ and $(b,a), a \\ne b$, is perpendicular to the line $y = x$. Show that the midpoint of $(a,b)$  and $(b,a)$ lies on the line $y=x$."
   ]
  },
  {
   "cell_type": "markdown",
   "metadata": {},
   "source": [
    "Solution:\n",
    "\n",
    "The slope of the line containing the points $(a,b)$ and $(b,a), a \\ne b$, is given by:\n",
    "\n",
    "$m_1 = \\dfrac{b-a}{a-b} = -1$\n",
    "\n",
    "The slope of the line $y = x$ is: $m_2 = 1$\n",
    "\n",
    "$\\therefore m_1m_2 = -1$, which proves that the two lines are perpendicular."
   ]
  },
  {
   "cell_type": "markdown",
   "metadata": {},
   "source": [
    "Now, the coordinate of the midpoint connecting  $(a,b)$  and $(b,a)$ is: $\\big (\\dfrac{a+b}{2} , \\dfrac{b+a}{2} \\big)$, which satisfy the equation $y=x$. \n",
    "Hence, the midpoint of $(a,b)$  and $(b,a)$ lies on the line $y=x$."
   ]
  },
  {
   "cell_type": "markdown",
   "metadata": {},
   "source": [
    "#### 2. The relationship between Celcius ($C$) and Fahrenheit ($F$) degrees of measuring temperature is linear. Find a linear equation relating $F$ and $C$ if $0^oC$ corresponds to $32^oF$ and $100^oC$ corresponds to $212^oF$. Use the equation to find the Celcius measure of $70^oF$."
   ]
  },
  {
   "cell_type": "markdown",
   "metadata": {},
   "source": [
    "Solution:\n",
    "    \n",
    "Using two point form of a straight line, we can write\n",
    "\n",
    "$\n",
    "\\dfrac{F-32}{32-212} = \\dfrac{C-0}{0-100}  \\\\\n",
    "\\text{simplifying, we get} \\\\\n",
    "\\dfrac{C}{5} = \\dfrac{F-32}{9}\n",
    "$\n",
    "\n",
    "When $F = 70$\n",
    "\n",
    "$\n",
    "\\dfrac{C}{5} = \\dfrac{70-32}{9} \\\\\n",
    "\\therefore C = 21.11\n",
    "$"
   ]
  },
  {
   "cell_type": "markdown",
   "metadata": {},
   "source": [
    "#### 3. A truck rental company rents a moving truck for one day by charging $\\$39$ plus $\\$0.60$ per mile. Write the linear equation that relates the cost $C$, in dollars of renting the truck to  the number of $x$ of miles driven. What is the cost of renting the truck if the truck is driven $110$ miles?"
   ]
  },
  {
   "cell_type": "markdown",
   "metadata": {},
   "source": [
    "Solution:\n",
    "\n",
    "From slope-intercept form, we can write,\n",
    "\n",
    "$C = 39 + 0.6x$\n",
    "\n",
    "When $x = 110$\n",
    "\n",
    "$C = 39 + 0.6(110) = 105$"
   ]
  },
  {
   "cell_type": "markdown",
   "metadata": {},
   "source": [
    "#### 4. Use slope and distance formula to show that the quadrilateral who vertices are $(0,0), (1,3), (4,2), (3,-1)$ is a square."
   ]
  },
  {
   "cell_type": "markdown",
   "metadata": {},
   "source": [
    "Solution: \n",
    "\n",
    "We show that if the diagonals of the quadrilateral are equal and intersect each other at right angle, then the quadrilateral is a square.\n",
    "\n",
    "$A = (0,0), C = (1,3), B = (4,2), D = (3,-1)$\n",
    "\n",
    "$AB = \\sqrt{(4-0)^2 + (2-0)^2} = 2\\sqrt5$\n",
    "\n",
    "$CD = \\sqrt{(3-1)^2 + (-1-3)^2} = 2\\sqrt5$\n",
    "\n",
    "Slope of AB = $m_1 = \\dfrac{2-0}{4-0} = \\dfrac{1}{2}$\n",
    "\n",
    "Slope of CD = $m_2 = \\dfrac{-1-3}{3-1} = -{2}$\n",
    "\n",
    "$m_1m_2 = (\\dfrac{1}{2})(-{2}) = -1 $\n",
    "\n",
    "Which proves that the quadrilateral is a square."
   ]
  },
  {
   "cell_type": "markdown",
   "metadata": {},
   "source": [
    "#### 5. Find the equations of the line that is perpendicular to the line $2x+5y=2$ and containing the point $(-3,-6)$."
   ]
  },
  {
   "cell_type": "markdown",
   "metadata": {},
   "source": [
    "Solution:\n",
    "\n",
    "$\n",
    "2x+5y=2  \\\\\n",
    "y = -\\dfrac{2}{5}x + \\dfrac{2}{5}  \\\\\n",
    "$\n",
    "\n",
    "Slope, $m_1 = -\\dfrac{2}{5}$ \n",
    "\n",
    "The slope of the line that is perpendicular to the above line, $m_2 = (-1)(-\\dfrac{5}{2}) = \\dfrac{5}{2} $\n",
    "\n",
    "Equation of the line that also passes through $(-3,-6)$:\n",
    "\n",
    "$$\n",
    "\\dfrac{y-(-6)}{x-(-3)} = \\dfrac{5}{2}  \\\\\n",
    "\\implies 2y+12 = 5x + 15  \\\\\n",
    "\\implies 5x - 2y + 3 = 0\n",
    "$$"
   ]
  }
 ],
 "metadata": {
  "kernelspec": {
   "display_name": "Python 3",
   "language": "python",
   "name": "python3"
  },
  "language_info": {
   "codemirror_mode": {
    "name": "ipython",
    "version": 3
   },
   "file_extension": ".py",
   "mimetype": "text/x-python",
   "name": "python",
   "nbconvert_exporter": "python",
   "pygments_lexer": "ipython3",
   "version": "3.7.9"
  }
 },
 "nbformat": 4,
 "nbformat_minor": 4
}
