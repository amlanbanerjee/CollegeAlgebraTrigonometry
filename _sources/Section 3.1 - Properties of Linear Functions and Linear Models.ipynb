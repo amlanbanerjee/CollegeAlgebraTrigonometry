{
 "cells": [
  {
   "cell_type": "markdown",
   "metadata": {},
   "source": [
    "## Section 3.1 - Properties of Linear Functions and Linear Models"
   ]
  },
  {
   "cell_type": "markdown",
   "metadata": {},
   "source": [
    "#### 1. A cell phone company offers an international plan by charging $\\$30$ for the first $80$ minutes, plus $\\$0.50$ for each minute over $80$.\n",
    "#### (a) Write a linear model that relates the cost $C$, in dollars, of talking $x$ minutes, assuming $x \\ge 80$.\n",
    "#### (b) What is the cost of talking $105$ minutes? 120 minutes?"
   ]
  },
  {
   "cell_type": "markdown",
   "metadata": {},
   "source": [
    "Solution:\n",
    "\n",
    "$\n",
    "(a) \\ C = 30+0.50(x-80) \\ \\forall x \\ge 80 \n",
    "$\n",
    "\n",
    "$\n",
    "(b) \\ C(x=105) = 30+0.50(105-80) = 42.5 \\ \\text{dollars}  \\\\\n",
    "\\ C(x=120) = 30+0.50(120-80) = 40 \\ \\text{dollars}\n",
    "$"
   ]
  },
  {
   "cell_type": "markdown",
   "metadata": {},
   "source": [
    "#### 2. Suppose that a company has just purchased a new computer for $\\$3,000$. The company chooses to depreciate the computer using the straight-line method over $3$ years.\n",
    "#### (a) Write a linear model that expresses the book value $V$ of the computer as a function of its age $x$.\n",
    "#### (b) What is the implied domain of the function found in (a)$?$\n",
    "#### (c) Graph the linear function.\n",
    "#### (d) What is the book value of the computer after $2$ years$?$\n",
    "#### (e) When will the computer have a book value of $\\$2000?$"
   ]
  },
  {
   "cell_type": "code",
   "execution_count": 3,
   "metadata": {},
   "outputs": [
    {
     "name": "stdout",
     "output_type": "stream",
     "text": [
      "Solution:\n",
      "(c)\n"
     ]
    },
    {
     "data": {
      "text/html": [
       "<h1><iframe src=\"https://www.desmos.com/calculator/qcdf7vix0l?embed\" width=\"500px\" height=\"500px\" style=\"border: 1px solid #ccc\" frameborder=0></iframe></h1>"
      ],
      "text/plain": [
       "<IPython.core.display.HTML object>"
      ]
     },
     "metadata": {},
     "output_type": "display_data"
    }
   ],
   "source": [
    "from IPython.core.display import display, HTML\n",
    "print(\"Solution:\")\n",
    "print(\"(c)\")\n",
    "display(HTML('<h1><iframe src=\"https://www.desmos.com/calculator/qcdf7vix0l?embed\" width=\"500px\" height=\"500px\" style=\"border: 1px solid #ccc\" frameborder=0></iframe></h1>'))"
   ]
  },
  {
   "cell_type": "markdown",
   "metadata": {},
   "source": [
    "(a) \n",
    "$\n",
    "\\dfrac{V - 3000}{3000 - 0} = \\dfrac{x - 0}{0 - 3}   \\\\\n",
    "\\implies V = 3000 - 1000x \\\\\n",
    "$\n",
    "\n",
    "(b) Domain: $[0,3]$\n",
    "\n",
    "(d) \n",
    "\n",
    "$\n",
    "V = 3000 - 1000x \\\\\n",
    "x = 2 \\ years  \\\\\n",
    "V = 3000 - 1000(2) = 1000\n",
    "$\n",
    "\n",
    "(e) \n",
    "$\n",
    "V = \\$2000  \\\\\n",
    "2000 = 3000 - 1000x \\\\\n",
    "x = 1\n",
    "$"
   ]
  }
 ],
 "metadata": {
  "kernelspec": {
   "display_name": "Python 3",
   "language": "python",
   "name": "python3"
  },
  "language_info": {
   "codemirror_mode": {
    "name": "ipython",
    "version": 3
   },
   "file_extension": ".py",
   "mimetype": "text/x-python",
   "name": "python",
   "nbconvert_exporter": "python",
   "pygments_lexer": "ipython3",
   "version": "3.7.9"
  }
 },
 "nbformat": 4,
 "nbformat_minor": 4
}
