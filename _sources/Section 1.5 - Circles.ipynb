{
 "cells": [
  {
   "cell_type": "markdown",
   "metadata": {},
   "source": [
    "## Section 1.5 - Circles"
   ]
  },
  {
   "cell_type": "markdown",
   "metadata": {},
   "source": [
    "#### 1. Find an equation of the line containing the centers of the two circles\n",
    "\n",
    "$ x^2 + y^2 -4x +6y + 4 = 0 \\text { and } \\\\\n",
    "x^2 + y^2 + 6x + 4y + 9 = 0 .\n",
    "$"
   ]
  },
  {
   "cell_type": "markdown",
   "metadata": {},
   "source": [
    "Solution:\n",
    "\n",
    "Let's first express the equations in the following form:\n",
    "\n",
    "$(x-h)^2 + (y-k)^2 = r^2$\n",
    "\n",
    "$\n",
    "x^2 + y^2 - 4x + 6y + 4 = 0   \\\\\n",
    "\\implies (x^2 - 4x + 4) + (y^2 + 6y + 9) - 9 = 0   \\\\\n",
    "\\implies (x - 2)^2 + (y + 3)^2 = 3^2  \\\\\n",
    "$\n",
    "\n",
    "Radius of the circle is $(2,-3)$ and radius $3$.\n",
    "\n",
    "$\n",
    "x^2 + y^2 + 6x + 4y + 4 = 0   \\\\\n",
    "\\implies (x^2 + 6x + 9) + (y^2 + 4y + 4) - 9 = 0   \\\\\n",
    "\\implies (x + 3)^2 + (y + 2)^2 = 3^2  \\\\\n",
    "$\n",
    "\n",
    "Radius of the circle is $(-3,-2)$ and radius $3$.\n",
    "\n",
    "Let's find the straight line joining that contains the centers $(2,-3), (-3,-2)$.\n",
    "\n",
    "$\n",
    "\\dfrac{(y - (-3))}{(-3-(-2))} = \\dfrac{(x-2)}{(2-(-3))}  \\\\\n",
    "\\implies \\dfrac{y+3}{-1} = \\dfrac{x-2}{5} \\\\\n",
    "\\implies 5y + 15 = -x + 2  \\\\\n",
    "\\implies x + 5y + 13 = 0\n",
    "$"
   ]
  },
  {
   "cell_type": "markdown",
   "metadata": {},
   "source": [
    "#### 2. The line $x-2y+4=0$ is tangent to a circle at $(0,2)$. The line $y=2x-7$ is tangent to the same circle $(3,-1)$. Find the center of the circle."
   ]
  },
  {
   "cell_type": "markdown",
   "metadata": {},
   "source": [
    "Solution:\n",
    "    \n",
    "We know that the tangents to a circle are perpendicular to the lines connecting the center of the circle and the points of tangency.\n",
    "\n",
    "Let's find the equations of the lines that connect the center of the circle and the points of tangency.\n",
    "\n",
    "Slope of the line $(1)$: $x - 2y + 4 = 0$ is $\\dfrac{1}{2}$  \n",
    "Slope of the line perpendicular to the above line is $-2$.\n",
    "Hence the equation of the line with slope $-2$ and passing through $(0,2)$ can be written as:\n",
    "\n",
    "$\n",
    "\\dfrac{y-2}{x-0} = 2  \\\\\n",
    "2x - y + 2 = 0 \\cdots (3)\n",
    "$\n",
    "\n",
    "\n",
    "Slope of the line $(2)$: $y = 2x - 7$ is $2$  \n",
    "Slope of the line perpendicular to the above line is $-\\dfrac{1}{2}$.\n",
    "Hence the equation of the line with slope $-\\dfrac{1}{2}$ and passing through $(3,-1)$ can be written as:\n",
    "\n",
    "\n",
    "$\n",
    "\\dfrac{y+1}{x-3} = -\\dfrac{1}{2}  \\\\\n",
    "2y + 2 = -x + 3   \\\\\n",
    "x + 2y -1 = 0 \\cdots (4)\n",
    "$\n",
    "\n",
    "Now, the solution of the equations (3) and (4), is the co-ordinate of the center of the circle.\n",
    "\n",
    "$\n",
    "2x - y + 2 = 0 \\cdots (3)  \\\\\n",
    "\\implies x = \\dfrac{y-2}{2}  \\\\\n",
    "$\n",
    "\n",
    "$\n",
    "x + 2y -1 = 0 \\cdots (4) \\\\\n",
    "\\implies x = -2y + 1 \\\\\n",
    "$\n",
    "\n",
    "$\n",
    "\\dfrac{y-2}{2} = -2y + 1 \\\\\n",
    "\\implies y = \\dfrac{4}{5}\n",
    "$\n",
    "\n",
    "From (4), we get,\n",
    "\n",
    "$\n",
    "x = (-2)\\dfrac{4}{5} + 1 = -\\dfrac{3}{5}\n",
    "$\n",
    "\n",
    "The center of the circle is at $\\bigg(-\\dfrac{3}{5},\\dfrac{4}{5}\\bigg)$."
   ]
  }
 ],
 "metadata": {
  "kernelspec": {
   "display_name": "Python 3",
   "language": "python",
   "name": "python3"
  },
  "language_info": {
   "codemirror_mode": {
    "name": "ipython",
    "version": 3
   },
   "file_extension": ".py",
   "mimetype": "text/x-python",
   "name": "python",
   "nbconvert_exporter": "python",
   "pygments_lexer": "ipython3",
   "version": "3.7.9"
  }
 },
 "nbformat": 4,
 "nbformat_minor": 4
}
