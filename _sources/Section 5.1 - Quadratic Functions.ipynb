{
 "cells": [
  {
   "cell_type": "markdown",
   "metadata": {},
   "source": [
    "## Section 5.1 - Quadratic Functions"
   ]
  },
  {
   "cell_type": "markdown",
   "metadata": {},
   "source": [
    "#### $ \\text{General form: } f(x) = ax^2 + bx + c \\qquad {(1)} $\n",
    "\n",
    "$\n",
    "\\dfrac{df(x)}{dx} = 2ax + b\n",
    "$\n",
    "\n",
    "To find maximum or minimum point of the function:\n",
    "\n",
    "$\n",
    "\\dfrac{df(x)}{dx} = 0\n",
    "$\n",
    "\n",
    "Vertex $(h,k)$:\n",
    "\n",
    "$\n",
    "h = -\\dfrac{b}{2a}  \\\\\n",
    "k = -\\dfrac{b^2}{4a}+c\n",
    "$\n",
    "\n",
    "$f(x)$ expressed in terms of the vertex of the parabola:\n",
    "\n",
    "#### $ \\text{Standard form: } f(x) = a(x-h)^2 + k \\qquad {(2)}$\n",
    "\n",
    "$f(x)$ expressed in terms of the $x$-intercepts :\n",
    "\n",
    "$f(x) = 0$ has two roots of $x$, given $(b^2 - 4ac) \\ge 0$ \n",
    "\n",
    "$\n",
    "ax^2 + bx + c = 0  \\\\\n",
    "\\text{The solutions of x:}  \\\\\n",
    "r_1 = \\dfrac{-b+\\sqrt{b^2-4ac}}{2a} \\\\\n",
    "r_2 = \\dfrac{-b-\\sqrt{b^2-4ac}}{2a}\n",
    "$\n",
    "\n",
    "It can be shown that:\n",
    "\n",
    "#### $f(x) = a(x-r_1)(x-r_2) \\qquad{(3)}$\n",
    "\n",
    "From the roots of $x$, we can also derive the expression of $h$, which is basically the midpoint of $r_1$ and $r_2$:\n",
    "\n",
    "$\n",
    "h = \\dfrac{\\dfrac{-b+\\sqrt{b^2-4ac}}{2a} + \\dfrac{-b-\\sqrt{b^2-4ac}}{2a}}{2} = -\\dfrac{b}{2a} \\\\\n",
    "k = f(-\\dfrac{b}{2a}) =  -\\dfrac{b^2}{4a}+c\n",
    "$"
   ]
  },
  {
   "cell_type": "markdown",
   "metadata": {},
   "source": [
    "#### 1. In ths US, the birthrate $B$ for unmarried women (births per $1000$ unmarried women) whose age is $a$ is modeled by the function: $B(a)=-0.30a^2+16.26a-158.90$\n",
    "#### (a) What is the age of unmarried women with the highest birthrate?\n",
    "#### (b) What is the highest birthrate of unmarried women?\n",
    "#### (c) Evaluate and interpret $B(40)$?"
   ]
  },
  {
   "cell_type": "code",
   "execution_count": 5,
   "metadata": {},
   "outputs": [
    {
     "name": "stdout",
     "output_type": "stream",
     "text": [
      "Solution:\n",
      "Plot the function\n"
     ]
    },
    {
     "data": {
      "text/html": [
       "<h1><iframe src=\"https://www.desmos.com/calculator/spnhkkwhx8?embed\" width=\"500px\" height=\"500px\" style=\"border: 1px solid #ccc\" frameborder=0></iframe></h1>"
      ],
      "text/plain": [
       "<IPython.core.display.HTML object>"
      ]
     },
     "metadata": {},
     "output_type": "display_data"
    }
   ],
   "source": [
    "from IPython.core.display import display, HTML\n",
    "print(\"Solution:\")\n",
    "print(\"Plot the function\")\n",
    "display(HTML('<h1><iframe src=\"https://www.desmos.com/calculator/spnhkkwhx8?embed\" width=\"500px\" height=\"500px\" style=\"border: 1px solid #ccc\" frameborder=0></iframe></h1>'))"
   ]
  },
  {
   "cell_type": "markdown",
   "metadata": {},
   "source": [
    "(a) The age of unmarried women with the highest birthrate $(h,k)$\n",
    "\n",
    "$\n",
    "h = -\\dfrac{16.26}{2(-0.30)} = 27.1\n",
    "$\n",
    "\n",
    "(b) The highest birthrate of unmarried women\n",
    "\n",
    "$\n",
    "k = -\\dfrac{16.26^2}{4(-0.30)} + 158.90 = 61.42\n",
    "$\n",
    "\n",
    "(c)\n",
    "\n",
    "Birth rate of unmarried women of age 40 yr\n",
    "\n",
    "$\n",
    "B(40) = -(0.30)(40)^2+16.26(40)-158.9 = 11.5 \\text { births per 1000 unmarried women}\n",
    "$"
   ]
  },
  {
   "cell_type": "markdown",
   "metadata": {},
   "source": [
    "#### 2. An accepted relationship between stoppig distance, $d$ (in feet), and the speed of a car, $v$ (in mph), is $d = 1.1v + 0.06v^2$ on dry, level concrete.\n",
    "#### (a) How many feet will it take a car travelig $45$ mph to stop on dry, level concrete?\n",
    "#### (b) If an accident occurs $200$ feet ahead of you, what is the maximum speed you can be traveling to avoid being involved?\n",
    "#### (c) What might term $1.1v$ represent?"
   ]
  },
  {
   "cell_type": "markdown",
   "metadata": {},
   "source": [
    "Solution:\n",
    "\n",
    "(a) \n",
    "\n",
    "At $v = 45 \\ mph,$\n",
    "$\n",
    "d = 1.1v + 0.06v^2 \\\\\n",
    "d = 1.1(45) + 0.06(45)^2 \\\\\n",
    "d = 171 \\text{ ft}\n",
    "$\n",
    "\n",
    "(b)\n",
    "\n",
    "At $d = 200 \\ ft$\n",
    "\n",
    "$\n",
    "200 = 1.1v + 0.06v^2 \\\\\n",
    "\\implies 0.06v^2 + 1.1v - 200 = 0 \\\\\n",
    "\\implies v = \\dfrac{-b \\pm \\sqrt{b^2 - 4ac}}{2a} = \\dfrac{-1.1 \\pm \\sqrt{1.1^2 - 4(0.06)(-200)}}{2(0.06)} \\\\\n",
    "v = 49.292, -67.625  \\\\\n",
    "v = 49.292 \\ mph \\ (Ans.)\n",
    "$\n",
    "\n",
    "(c) $1.1v$ represents the reaction time."
   ]
  },
  {
   "cell_type": "markdown",
   "metadata": {},
   "source": [
    "#### 3. What point on the line $y=x+1$ that is closest to point $(4,1)$?\n"
   ]
  },
  {
   "cell_type": "markdown",
   "metadata": {},
   "source": [
    "Solution:\n",
    "    \n",
    "Suppose, the point $(x,y)$ is on the line $y=x+1$ that is closest to the point $(4,1)$.\n",
    "\n",
    "The distance between $(x,y)$ and $(4,1)$ can be expressed as:\n",
    "\n",
    "$\n",
    "\\begin{align}\n",
    "d(x)^2 &= (x-4)^2 + (y-1)^2  \\\\\n",
    "&= (x-4)^2 + (x+1-1)^2 \\\\\n",
    "&= (x^2-8x+16) + x^2 \\\\\n",
    "&= 2x^2 - 8x + 16 \\\\\n",
    "\\end{align}\n",
    "$\n",
    "\n",
    "Notice that $d(x)$ is a parabolic function of the $x$ coordinate of the unknown point.\n",
    "\n",
    "In the above equation, $a>0$, hence the parabolic function has a minimum solution. That solution is the $x$ coordinate of the point on the straight line $y=x+1$ that is nearest to the point $(4,1)$.\n",
    "\n",
    "$\n",
    "\\therefore x = -\\dfrac{b}{2a} = -\\dfrac{-8}{2(2)} = 2  \\\\\n",
    "\\therefore y = x + 1 = 3.\n",
    "$"
   ]
  },
  {
   "cell_type": "markdown",
   "metadata": {},
   "source": [
    "#### 4. (a) Find a quadratic function whose $x$-intercepts are $-5$ and $3$ with $a=1$; $a=5$.\n",
    "#### (b) How does the value of $a$ affect the intercepts?\n",
    "#### (c) How does the value of $a$ affect the axis of symmetry?\n",
    "#### (d) How does the value of $a$ affect the vertex?\n",
    "#### (e) Compare the $x$-coordinate of the vertex with the midpoint of the $x$-intercepts. What might you conclude?"
   ]
  },
  {
   "cell_type": "markdown",
   "metadata": {},
   "source": [
    "Solution:\n",
    "\n",
    "(a) We can use the intercept form of the quadratic equation:\n",
    "\n",
    "$r_1 = -5, r_2 = 3 $\n",
    "\n",
    "$\n",
    "\\begin{align}\n",
    "a = 1 \\\\\n",
    "f(x) &= a(x-r_1)(x-r_2) \\\\\n",
    "&= 1(x+5)(x-3) \\\\\n",
    "f(x) &= x^2 + 2x - 15 \\qquad (1) \\\\\n",
    "\\end{align}\n",
    "$\n",
    "\n",
    "$\n",
    "\\begin{align}\n",
    "a = 5 \\\\\n",
    "f(x)&= 5(x+5)(x-3) \\\\\n",
    "f(x) &= 5x^2 + 10x - 75 \\qquad (2) \\\\\n",
    "\\end{align}\n",
    "$\n",
    "\n",
    "(b) The $x$-intercepts are not affected by $a$, but the $y$-intercept changes by the factor of $a$.\n",
    "\n",
    "From equation $(1)$, we get $f(x=0)= -15$   \n",
    "From equation $(2)$, we get $f(x=0)= -75$\n",
    "\n",
    "We see that the intercept of function $(2)$ is $5$ times the intercept of function $(1)$.\n",
    "\n",
    "(c)\n",
    "\n",
    "From function $(1)$, $f(x) = x^2 + 2x - 15$,\n",
    "\n",
    "$\n",
    "h = -\\dfrac{b}{2a} = -\\dfrac{2}{2} = -1 \\\\\n",
    "k = -\\dfrac{b^2}{4a}+c = -\\dfrac{2^2}{4(1)}-15 = -16 \n",
    "$\n",
    "\n",
    "#### The axis of symmetry: $x = -1$\n",
    "\n",
    "\n",
    "From function $(1)$, $f(x) = 5x^2 + 10x - 75$,\n",
    "\n",
    "$\n",
    "h = -\\dfrac{b}{2a} = -\\dfrac{10}{10} = -1  \\\\\n",
    "k = -\\dfrac{b^2}{4a}+c = -\\dfrac{10^2}{4(5)} - 75  = -80\n",
    "$\n",
    "\n",
    "#### The axis of symmetry: $x = -1$\n",
    "\n",
    "We find that the axis of symmetry is not affected by $a$ if the $x$-intercepts do not change.\n",
    "\n",
    "(d) From (c), we find that the vertex shifted from $(-1,-16)$ to $(-1,-80)$. \n",
    "\n",
    "(e) The midpoint of the $x$-intercepts is $\\dfrac{-5+3}{2} = -1$. Hence, the $x$-coordinate of the vertex is equal to the midpoint of the $x$-intercepts."
   ]
  },
  {
   "cell_type": "markdown",
   "metadata": {},
   "source": [
    "#### 5. A coordinate grid has been superimposed over the quadratic path of a basketball in the figure below. Find an equation for the path of the ball. Does the shooter make the basket?\n",
    "\n",
    "<img src=\"section_5_1_figure_8.jfif\">"
   ]
  },
  {
   "cell_type": "markdown",
   "metadata": {},
   "source": [
    "Solution:\n",
    "\n",
    "From the figure, we can't tell for sure the coordinate of the vertex. Hence, we simply solve for $a, b,$ and $c$ in the general form of the quadratic equation: $y = ax^2+bx+c$.\n",
    "\n",
    "We first choose three points from the ball's trajectory: $(0,0), (-2,5),$ and $(-4,7)$.\n",
    "\n",
    "$\n",
    "x = 0, y = 0  \\\\\n",
    "0 = a(0)+b(0)+c  \\\\\n",
    "c = 0   \\qquad (1)\n",
    "$\n",
    "\n",
    "$\n",
    "x = -2, y = 5  \\\\\n",
    "5 = 4a -2b \\qquad (2) \n",
    "$\n",
    "\n",
    "$\n",
    "x = -4, y = 7  \\\\\n",
    "7 = 16a -4b \\qquad (3) \n",
    "$\n",
    "\n",
    "Solving $(2)$ and $(3)$, we get,\n",
    "\n",
    "$a = -0.375, b = -3.25$\n",
    "\n",
    "Hence, the equation of the trajectory is $y = -0.375x^2 - 3.25x \\qquad (4)$\n",
    "\n",
    "Now, the $x$-coordinate of the center of basket is $-7.5$.\n",
    "\n",
    "When $x = -7.5$, \n",
    "$\n",
    "y = -0.375(-7.5)^2 - 3.25(-7.5) = 3.281\n",
    "$\n",
    "\n",
    "Yes, it appears that the shooter scored!"
   ]
  },
  {
   "cell_type": "markdown",
   "metadata": {},
   "source": [
    "#### 6. A rock is thrown upward from the top of a $112$-foot high cliff overlooking the ocean at a speed of 96 feet per second. The rock’s height at any given time $t$ above ocean can be modeled by the equation $H(t)=−16t^2+96t+112$.\n",
    "#### ⓐ When does the rock reach the maximum height?\n",
    "#### ⓑ What is the maximum height of the rock?\n",
    "#### ⓒ When does the rock hit the ocean?"
   ]
  },
  {
   "cell_type": "markdown",
   "metadata": {},
   "source": [
    "Solution:\n",
    "\n",
    "ⓐ $H(t)=−16t^2+96t+112$\n",
    "\n",
    "The rock reaches the maximum height at the vertex $(h,k)$ of the parabola, where $h$ represents the time taken by the rock to reach the maximum height, and $k$ represents the maximum height attained by the rock.\n",
    "\n",
    "$\n",
    "h = -\\dfrac{b}{2a} = -\\dfrac{96}{2(-16)} = 3 \\ sec \\text{ (This is the time to reach the maximum height.)} \\\\\n",
    "$\n",
    "\n",
    "ⓑ Maximum height of the rock:\n",
    "$\n",
    "k = −16(3)^2+96(3)+112 = 256 \\ ft\n",
    "$\n",
    "\n",
    "ⓒ At ocean surface, $H(t) = 0$\n",
    "\n",
    "Using the standard form:\n",
    "$\n",
    "-16(t-3)^2 + 256 = 0  \\\\\n",
    "\\implies (t-3)^2 = 16  \\\\\n",
    "\\implies t-3 = \\pm 4  \\\\\n",
    "\\implies t = 7, -1 \\ sec\n",
    "$\n",
    "\n",
    "Hence, the rock will hit the ocean $7$ sec after it was thrown."
   ]
  },
  {
   "cell_type": "markdown",
   "metadata": {},
   "source": [
    "#### 7. Write the equation of the quadratic function that contains $(4,3)$ and has the shape of $f(x)=5x^2$. Vertex is on the $y$-axis."
   ]
  },
  {
   "cell_type": "markdown",
   "metadata": {},
   "source": [
    "Solution:\n",
    "\n",
    "From the given equation, we know stretch factor $(a) = 5$ and $h = 0$.\n",
    "\n",
    "\n",
    "Let's write the standard form:\n",
    "\n",
    "$\n",
    "f(x) = a(x-h)^2 + k  \\\\\n",
    "3 = 5(4-0)^2 + k \\\\\n",
    "\\implies 3 = 80 + k \\\\\n",
    "\\implies k = -77\n",
    "$\n",
    "\n",
    "$f(x) = 5x^2 - 77$"
   ]
  },
  {
   "cell_type": "markdown",
   "metadata": {},
   "source": [
    "#### 8. A soccer stadium holds $62,000$ spectators. With a ticket price of $\\$11$, the average attendance has been $26,000$. When the price dropped to $\\$9$, the average attendance rose to $31,000$. Assuming that attendance is linearly related to ticket price, what ticket price would maximize revenue?"
   ]
  },
  {
   "cell_type": "markdown",
   "metadata": {},
   "source": [
    "Solution:\n",
    "\n",
    "The revenue will be maximized if the stadium is filled at its capacity. Let's write the quadratic equation describing this problem in standard form, in which the vertex is located at $(h,62000)$. The value of $h$ is the ticker price at which the revenue will maximize.\n",
    "\n",
    "$\n",
    "f(x) = a(x-h)^2 + k \\\\\n",
    "$\n",
    "\n",
    "Now the parabola passes through two points $(11,26000)$ and $(9,31000)$.\n",
    "\n",
    "$\n",
    "26000 = a(11-h)^2 + 62000  \\\\\n",
    "a(11-h)^2 = -36000  \\qquad (1) \\\\\n",
    "31000 = a( = -31000 -h)^2 + 62000 \\\\\n",
    "a(9-h)^2 = -31000 \\qquad (2) \\\\\n",
    "$\n",
    "\n",
    "Divide $(1)$ by $(2)$, we get,\n",
    "\n",
    "$\n",
    "\\dfrac{(11-h)^2}{(9-h)^2} = \\dfrac{36}{31} \\qquad (3) \\\\\n",
    "$\n",
    "\n",
    "Solving $(3)$,\n",
    "\n",
    "$h=−16.762634 \\ or \\ h=9.962634$\n",
    "\n",
    "Hence, a ticket price of approx. $ \\$10 $ would maximize revenue."
   ]
  }
 ],
 "metadata": {
  "kernelspec": {
   "display_name": "Python 3",
   "language": "python",
   "name": "python3"
  },
  "language_info": {
   "codemirror_mode": {
    "name": "ipython",
    "version": 3
   },
   "file_extension": ".py",
   "mimetype": "text/x-python",
   "name": "python",
   "nbconvert_exporter": "python",
   "pygments_lexer": "ipython3",
   "version": "3.7.9"
  }
 },
 "nbformat": 4,
 "nbformat_minor": 4
}
