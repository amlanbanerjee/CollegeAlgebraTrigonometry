{
 "cells": [
  {
   "cell_type": "markdown",
   "metadata": {},
   "source": [
    "## Section 2.5 - Graphing Techniques - Transformations"
   ]
  },
  {
   "cell_type": "markdown",
   "metadata": {},
   "source": [
    "#### 1. The total projected worldwide digital music revenues, R, in millions of dollars, for the years 2012 through 2017 can be estimated by the function:\n",
    "\n",
    "$\n",
    "R(x) = 28.6x^2 + 300x + 4843\n",
    "$\n",
    "where $x$ is the number of years after 2012.\n",
    "\n",
    "(a) Find $R(0)$ and $R(5)$.   \n",
    "(b) Find $r(x) = R(x-2)$   \n",
    "(c) Find $r(0)$ and $r(5)$.\n"
   ]
  },
  {
   "cell_type": "markdown",
   "metadata": {},
   "source": [
    "Solution:\n",
    "    \n",
    "$\n",
    "(a) \\\\\n",
    "R(x) = 28.6x^2 + 300x + 4843   \\\\\n",
    "R(0) = 4843  \\\\\n",
    "R(5) =  28.6\\cdot25  + 300\\cdot 5 + 4843   \\\\\n",
    "$  \n",
    "\n",
    "$\n",
    "(b)  \\\\\n",
    "\\begin{align}\n",
    "r(x) &= R(x-2)  \\\\\n",
    "&= 28.6(x-2)^2 + 300(x-2) + 4843 \\\\\n",
    "&= 28.6(x^2 - 4x+ 4) + 300x - 600 + 4843  \\\\\n",
    "&= 28.6x^2 + 185.6x + 4357.4  \\\\\n",
    "\\text{In r(x), x is the number of years after 2010.}\n",
    "\\end{align}\n",
    "$\n",
    "\n",
    "$\n",
    "(c) \\\\\n",
    "r(0) = 4357.4  \\\\\n",
    "r(5) =  28.6(5)^2 + 185.6(5) + 4357.4 = 6000.4 \\\\\n",
    "$"
   ]
  },
  {
   "cell_type": "markdown",
   "metadata": {},
   "source": [
    "#### 2. (a) Graph $f(x) = -2|x-4|+4$ using transformations.\n",
    "#### (b) Find the area of the region that is bounded by $f$ and the $x$-axis and lies above the $x$-axis."
   ]
  },
  {
   "cell_type": "code",
   "execution_count": 6,
   "metadata": {},
   "outputs": [
    {
     "name": "stdout",
     "output_type": "stream",
     "text": [
      "(a)\n"
     ]
    },
    {
     "data": {
      "text/html": [
       "<h1><iframe src=\"https://www.desmos.com/calculator/l2rjm6iipo?embed\" width=\"500px\" height=\"500px\" style=\"border: 1px solid #ccc\" frameborder=0></iframe></h1>"
      ],
      "text/plain": [
       "<IPython.core.display.HTML object>"
      ]
     },
     "metadata": {},
     "output_type": "display_data"
    }
   ],
   "source": [
    "from IPython.core.display import display, HTML\n",
    "print(\"(a)\")\n",
    "display(HTML('<h1><iframe src=\"https://www.desmos.com/calculator/l2rjm6iipo?embed\" width=\"500px\" height=\"500px\" style=\"border: 1px solid #ccc\" frameborder=0></iframe></h1>'))"
   ]
  },
  {
   "cell_type": "markdown",
   "metadata": {},
   "source": [
    "(b) The area of the triangle formed by the points $(4,4), (2,0)$ and $6,0$ can be calculated as:\n",
    "$= \\dfrac{1}{2}(6-2)(4) = 8.$\n"
   ]
  },
  {
   "cell_type": "markdown",
   "metadata": {},
   "source": [
    "#### 3. Suppose $(-3,5)$ is a point on the graph of $y=g(x)$.\n",
    "#### (a) What point is on the graph of $y = g(x+1)-3$?\n",
    "#### (b) What point is on  the graph of $y = -3g(x-4)+3$?\n",
    "#### (c) What point is on  the graph of $y = g(3x+9)$?"
   ]
  },
  {
   "cell_type": "markdown",
   "metadata": {},
   "source": [
    "Solution:\n",
    "$\n",
    "(a)  \\\\\n",
    "x \\text{  is shifted by } +1  \n",
    "\\implies x_1 = -3 + 1 = -2   \\\\\n",
    "y \\text{  is shifted by } -3  \n",
    "\\implies y_1 = 5 - 3 = 2  \\\\\n",
    "Answer: (-2,2)\n",
    "$\n",
    "\n",
    "$\n",
    "(b)  \\\\\n",
    "x_2 = -3 -4 = -7   \\\\\n",
    "y_2 = -3 (5) + 3 = -12  \\\\\n",
    "Answer: (-7,-12)\n",
    "$\n",
    "\n",
    "$\n",
    "(c) \\\\\n",
    "x_3 = 3(-3) + 9 = 0 \\\\\n",
    "y_3 = 5 \\ (unchanged)  \\\\\n",
    "Answer: (0,5)\n",
    "$"
   ]
  }
 ],
 "metadata": {
  "kernelspec": {
   "display_name": "Python 3",
   "language": "python",
   "name": "python3"
  },
  "language_info": {
   "codemirror_mode": {
    "name": "ipython",
    "version": 3
   },
   "file_extension": ".py",
   "mimetype": "text/x-python",
   "name": "python",
   "nbconvert_exporter": "python",
   "pygments_lexer": "ipython3",
   "version": "3.7.9"
  }
 },
 "nbformat": 4,
 "nbformat_minor": 4
}
