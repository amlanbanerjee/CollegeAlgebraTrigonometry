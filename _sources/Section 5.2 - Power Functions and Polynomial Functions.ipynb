{
 "cells": [
  {
   "cell_type": "markdown",
   "metadata": {},
   "source": [
    "## Section 5.2 - Power Functions and Polynomial Functions"
   ]
  },
  {
   "cell_type": "markdown",
   "metadata": {},
   "source": [
    "#### Use the information about the graph of a polynomial function to determine the function. Assume the leading coefficient is $-1$. There may be more than one correct answer."
   ]
  },
  {
   "cell_type": "markdown",
   "metadata": {},
   "source": [
    "#### 1. The $y$-intercept is $(0,9)$. The $x$-intercepts are $(-3,0), (3,0)$. Degree is $2$.   \n",
    "#### End behavior: as $x \\rightarrow -\\infty$, $f(x) \\rightarrow -\\infty$, as $x \\rightarrow \\infty$, $f(x) \\rightarrow -\\infty$.\n",
    "\n",
    "**Solution:** \n",
    "\n",
    "Since the degree of the polynomial is $2$, we can tell that $x$ has only two roots $-3$ and $3$ and also from the end behavior we can tell that the polynomial opens downwards and its both left and right arms extend to negative infinity.\n",
    "\n",
    "Hence we can write:\n",
    "\n",
    "$\n",
    "\\begin{align}\n",
    "f(x) &= -(1)(x+3)(x-3) \\\\\n",
    "&= -(x^2-9) \\\\\n",
    "&= -x^2 + 9\n",
    "\\end{align}\n",
    "$"
   ]
  },
  {
   "cell_type": "markdown",
   "metadata": {},
   "source": [
    "#### 2. The $y$-intercept is $(0,1)$. The $x$-intercept is $(1,0)$. Degree is $3$.   \n",
    "#### End behavior: as $x \\rightarrow -\\infty$, $f(x) \\rightarrow \\infty$, as $x \\rightarrow \\infty$, $f(x) \\rightarrow - \\infty$.\n",
    "\n",
    "Solution: \n",
    "\n",
    "From the above information, we can write\n",
    "\n",
    "$\n",
    "\\begin{align}\n",
    "f(x) &= -(1)(x^3-1) \\\\\n",
    "&= -x^3 + 1\n",
    "\\end{align}\n",
    "$"
   ]
  },
  {
   "cell_type": "markdown",
   "metadata": {},
   "source": [
    "#### 3. A rectangle is twice as long as it is wide. Squares of side 2 feet are cut out from each corner. Then the sides are folded up to make an open box. Express the volume of the box as a function of the width $( x )$."
   ]
  },
  {
   "cell_type": "markdown",
   "metadata": {},
   "source": [
    "Solution:\n",
    "\n",
    "Width = $x$   \n",
    "Length = $2x$\n",
    "\n",
    "After cutting the squares from each corner,   \n",
    "length = $2x-4$  \n",
    "width = $x$   \n",
    "Once folded, height = $2$  \n",
    "\n",
    "The volume: $V(x) = 2x(2x-4) = 4x^2 - 8x$"
   ]
  },
  {
   "cell_type": "markdown",
   "metadata": {},
   "source": [
    "#### 4. Describe the function: $f(x) = (x+3)(4x^2-1)$"
   ]
  },
  {
   "cell_type": "markdown",
   "metadata": {},
   "source": [
    "Solution:\n",
    "\n",
    "$\n",
    "\\begin{align}\n",
    "f(x) &= (x+3)(4x^2-1) \\\\\n",
    "&= 4x^3 - x +12x^2 - 3 \\\\\n",
    "&= 4x^3 + 12x^2 - x - 3 \\\\\n",
    "\\end{align}\n",
    "$\n",
    "\n",
    "* $f(x)$ is a polynomial with degree $3$ and leading coefficient $4$.\n",
    "* $f(x)$ has three roots and two turning point\n",
    "$$\n",
    "\\begin{align}\n",
    "(x+3)(4x^2-1) = 0 \\\\\n",
    "\\implies (x+3)(2x+1)(2x-1) = 0 \\\\\n",
    "\\therefore x = -3, \\dfrac{1}{2}, \\dfrac{1}{2}\n",
    "\\end{align}\n",
    "$$\n",
    "* The end behavior of $f(x)$ is dictated by the leading term $4x^3$.  \n",
    "Since, the leading coefficient is positive and the degree is odd,   \n",
    "If $x \\rightarrow \\infty, f(x) \\rightarrow \\infty $   \n",
    "If $x \\rightarrow -\\infty, f(x) \\rightarrow -\\infty $\n"
   ]
  },
  {
   "cell_type": "code",
   "execution_count": 4,
   "metadata": {},
   "outputs": [
    {
     "data": {
      "text/html": [
       "<h1><iframe src=\"https://www.desmos.com/calculator/0erk7bvlqu?embed\" width=\"500px\" height=\"500px\" style=\"border: 1px solid #ccc\" frameborder=0></iframe></h1>"
      ],
      "text/plain": [
       "<IPython.core.display.HTML object>"
      ]
     },
     "metadata": {},
     "output_type": "display_data"
    }
   ],
   "source": [
    "from IPython.core.display import display, HTML\n",
    "display(HTML('<h1><iframe src=\"https://www.desmos.com/calculator/0erk7bvlqu?embed\" width=\"500px\" height=\"500px\" style=\"border: 1px solid #ccc\" frameborder=0></iframe></h1>'))"
   ]
  }
 ],
 "metadata": {
  "kernelspec": {
   "display_name": "Python 3",
   "language": "python",
   "name": "python3"
  },
  "language_info": {
   "codemirror_mode": {
    "name": "ipython",
    "version": 3
   },
   "file_extension": ".py",
   "mimetype": "text/x-python",
   "name": "python",
   "nbconvert_exporter": "python",
   "pygments_lexer": "ipython3",
   "version": "3.7.9"
  }
 },
 "nbformat": 4,
 "nbformat_minor": 4
}
