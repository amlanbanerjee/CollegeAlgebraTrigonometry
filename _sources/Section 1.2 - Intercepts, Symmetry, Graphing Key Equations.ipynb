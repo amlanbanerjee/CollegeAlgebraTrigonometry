{
 "cells": [
  {
   "cell_type": "markdown",
   "metadata": {},
   "source": [
    "## Section 1.2 - Intercepts, Symmetry, Graphing Key Equations"
   ]
  },
  {
   "cell_type": "markdown",
   "metadata": {},
   "source": [
    "#### 1. List the intercept and test for symmetry.\n",
    "\n",
    "#### $ y = \\dfrac{3x}{x^2+9} $"
   ]
  },
  {
   "cell_type": "code",
   "execution_count": 1,
   "metadata": {},
   "outputs": [
    {
     "data": {
      "text/html": [
       "<h1><iframe src=\"https://www.desmos.com/calculator/kwlfrncaqt?embed\" width=\"1000px\" height=\"500px\" style=\"border: 1px solid #ccc\" frameborder=0></iframe></h1>"
      ],
      "text/plain": [
       "<IPython.core.display.HTML object>"
      ]
     },
     "metadata": {},
     "output_type": "display_data"
    }
   ],
   "source": [
    "from IPython.core.display import display, HTML\n",
    "display(HTML('<h1><iframe src=\"https://www.desmos.com/calculator/kwlfrncaqt?embed\" width=\"1000px\" height=\"500px\" style=\"border: 1px solid #ccc\" frameborder=0></iframe></h1>'))"
   ]
  },
  {
   "cell_type": "markdown",
   "metadata": {},
   "source": [
    "Solution:\n",
    "\n",
    "y-intercept: setting $x = 0$, we get, $y = 0$\n",
    "\n",
    "x-intercept: setting $y = 0$, we get, $x = 0$"
   ]
  },
  {
   "cell_type": "markdown",
   "metadata": {},
   "source": [
    "**X-axis Symmetry:**\n",
    "\n",
    "Replacing $y$ by $-y$, \n",
    "\n",
    "$-y = \\dfrac{3x}{x^2+9}$\n",
    "\n",
    "Now, this is not an equivalent equation since the terms on the right are identical to the original equation and the term on the left is the opposite sign. So, this equation doesn’t have symmetry with respect to the $x$-axis.\n",
    "\n",
    "**Y-axis Symmetry:**\n",
    "\n",
    "Replacing $x$ by $-x$, \n",
    "\n",
    "$y = \\dfrac{3(-x)}{(-x)^2+9} = - \\dfrac{3x}{x^2+9}$\n",
    "\n",
    "Now, this is not an equivalent equation since the term on the right is the opposite sign. So, this equation doesn’t have symmetry with respect to the $y$-axis.\n",
    "\n",
    "**Origin Symmetry:**\n",
    "\n",
    "Replacing $x$ by $-x$ and $y$ by $-y$,\n",
    "\n",
    "$\n",
    "-y = \\dfrac{-3x}{(-x)^2+9}  \\\\\n",
    "y = \\dfrac{3x}{x^2+9}  \\\\\n",
    "$\n",
    "\n",
    "The final equation is same as the original equation, hence the equation is symmetric with respect to the origin. "
   ]
  },
  {
   "cell_type": "raw",
   "metadata": {},
   "source": [
    "import matplotlib.pyplot as plt \n",
    "import numpy as np \n",
    "xmin=-100\n",
    "xmax=100\n",
    "# setting the x - coordinates \n",
    "x = np.arange(xmin, xmax, 0.0001)\n",
    "# setting the corresponding y - coordinates \n",
    "y = (3*x)/(x**2+9)\n",
    "\n",
    "# potting the points \n",
    "plt.plot(x, y)\n",
    "plt.hlines(y=0,xmin=xmin,xmax=xmax, linestyles=\"dashed\")\n",
    "  \n",
    "# function to show the plot \n",
    "plt.show() "
   ]
  },
  {
   "cell_type": "markdown",
   "metadata": {},
   "source": [
    "#### 2. $(x^2 + y^2 - x)^2 = x^2 + y^2$\n",
    "\n",
    "(a) Find the intercepts of the graph of the equation.\n",
    "\n",
    "(b) Test for symmetry with respect to the x-axis, y-axis, and origin. "
   ]
  },
  {
   "cell_type": "code",
   "execution_count": 2,
   "metadata": {},
   "outputs": [
    {
     "data": {
      "text/html": [
       "<h1><iframe src=\"https://www.desmos.com/calculator/9gordrqlmz?embed\" width=\"500px\" height=\"500px\" style=\"border: 1px solid #ccc\" frameborder=0></iframe></h1>"
      ],
      "text/plain": [
       "<IPython.core.display.HTML object>"
      ]
     },
     "metadata": {},
     "output_type": "display_data"
    }
   ],
   "source": [
    "from IPython.core.display import display, HTML\n",
    "display(HTML('<h1><iframe src=\"https://www.desmos.com/calculator/9gordrqlmz?embed\" width=\"500px\" height=\"500px\" style=\"border: 1px solid #ccc\" frameborder=0></iframe></h1>'))"
   ]
  },
  {
   "cell_type": "markdown",
   "metadata": {},
   "source": [
    "Solution:\n",
    "    \n",
    "(a) **X-intercept:**\n",
    "\n",
    "$y = 0$,\n",
    "\n",
    "$\n",
    "(x^2 - x)^2 = x^2  \\\\\n",
    "\\implies x^4 - 2x^3 + x^2 = x^2 \\\\\n",
    "\\implies x^4 - 2x^3 = 0  \\\\\n",
    "\\implies x^3(x - 2) = 0 \\\\\n",
    "\\implies x^3 = 0 \\\\\n",
    "\\implies  x = 0  \\\\\n",
    "or, \\\\\n",
    "x - 2 = 0  \\\\\n",
    "\\implies x = 2\n",
    "$\n",
    "\n",
    "$x$-intercepts: $x = 0, 2$\n",
    "\n",
    "\n",
    "(b) **Y-intercept:**\n",
    "\n",
    "$x = 0$\n",
    "\n",
    "$\n",
    "(y^2)^2 = y^2  \\\\\n",
    "\\implies y^4 - y^2 = 0 \\\\\n",
    "\\implies y^2(Y^2 - 1) = 0 \\\\\n",
    "\\implies y = 0  \\\\\n",
    "or,\n",
    "y^2 - 1 = 0 \\\\\n",
    "\\implies (y+1)(y-1) = 0 \\\\\n",
    "\\implies y = 1, or -1 \n",
    "$\n",
    "\n",
    "$y$-intercepts: $ y = 0, 1, -1$"
   ]
  },
  {
   "cell_type": "markdown",
   "metadata": {},
   "source": [
    "**x-axis symmetry**\n",
    "\n",
    "Replacing $y$ by $-y$\n",
    "\n",
    "$\n",
    "(x^2 + (-y)^2 - x)^2 = x^2 + (-y)^2 \\\\\n",
    "(x^2 + y^2 - x)^2 = x^2 + y^2\n",
    "$\n",
    "\n",
    "The final expression is equaivalent to the original equation, so the equation is symmetrical with respect to the x-axis.\n",
    "\n",
    "**y-axis symmetry**\n",
    "\n",
    "Replacing $x$ by $-x$\n",
    "\n",
    "$\n",
    "((-x)^2 + y^2 - (-x))^2 = (-x)^2 + (-y)^2 \\\\\n",
    "(x^2 + y^2 + x)^2 = x^2 + y^2\n",
    "$\n",
    "\n",
    "The final expression is not equaivalent to the original equation, so the equation is not symmetrical with respect to the y-axis.\n",
    "\n",
    "**Origin Symmetry**\n",
    "\n",
    "Replacing $x$ by $-x$ and $y$ by $-y$\n",
    "\n",
    "$\n",
    "((-x)^2 + (-y)^2 - (-x))^2 = (-x)^2 + (-y)^2 \\\\\n",
    "(x^2 + y^2 + x)^2 = x^2 + y^2\n",
    "$\n",
    "\n",
    "The final expression is not equaivalent to the original equation, so the equation is not symmetrical with respect to the the origin."
   ]
  }
 ],
 "metadata": {
  "kernelspec": {
   "display_name": "Python 3",
   "language": "python",
   "name": "python3"
  },
  "language_info": {
   "codemirror_mode": {
    "name": "ipython",
    "version": 3
   },
   "file_extension": ".py",
   "mimetype": "text/x-python",
   "name": "python",
   "nbconvert_exporter": "python",
   "pygments_lexer": "ipython3",
   "version": "3.7.9"
  }
 },
 "nbformat": 4,
 "nbformat_minor": 4
}
